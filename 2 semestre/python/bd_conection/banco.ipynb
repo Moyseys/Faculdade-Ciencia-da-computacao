{
 "cells": [
  {
   "cell_type": "code",
   "execution_count": 1,
   "metadata": {},
   "outputs": [],
   "source": [
    "import sqlite3\n",
    "\n",
    "conn = sqlite3.connect(\"quadro\")\n",
    "cursor = conn.cursor()"
   ]
  },
  {
   "cell_type": "code",
   "execution_count": 2,
   "metadata": {},
   "outputs": [
    {
     "data": {
      "text/plain": [
       "<sqlite3.Cursor at 0x26a3eda80c0>"
      ]
     },
     "execution_count": 2,
     "metadata": {},
     "output_type": "execute_result"
    }
   ],
   "source": [
    "cursor.execute(\"\"\"\n",
    "    CREATE TABLE IF NOT EXISTS users(\n",
    "        nome text,\n",
    "        email text,\n",
    "        senha text\n",
    "    )\n",
    "\"\"\")"
   ]
  },
  {
   "cell_type": "code",
   "execution_count": 18,
   "metadata": {},
   "outputs": [],
   "source": [
    "nome = input(\"nome: \")\n",
    "email = input(\"email: \")\n",
    "senha = input(\"senha: \")\n",
    "cursor.execute(\"\"\"\n",
    "    INSERT INTO users (nome, email, senha)\n",
    "        VALUES(?, ?, ?)\n",
    "\"\"\", (nome, email, senha))\n",
    "conn.commit()"
   ]
  },
  {
   "cell_type": "code",
   "execution_count": 19,
   "metadata": {},
   "outputs": [
    {
     "name": "stdout",
     "output_type": "stream",
     "text": [
      "[('APOLO', 'APOLO@GMAIL.COM', 'APOLOSILVA'), ('APOLO', 'APOLO@GMAIL.COM', 'APOLOSILVA'), ('APOLO', 'APOLO@GMAIL.COM', 'APOLOSILVA'), ('APOLO', 'APOLO@GMAIL.COM', 'APOLOSILVA'), ('geo', 'geo@gmail.com', '123'), ('Ana', 'ana@gmail.com', '1234')]\n"
     ]
    }
   ],
   "source": [
    "cursor.execute(\"\"\"\n",
    "    SELECT * FROM users\n",
    "\"\"\")\n",
    "\n",
    "print(cursor.fetchall())"
   ]
  }
 ],
 "metadata": {
  "kernelspec": {
   "display_name": "Python 3",
   "language": "python",
   "name": "python3"
  },
  "language_info": {
   "codemirror_mode": {
    "name": "ipython",
    "version": 3
   },
   "file_extension": ".py",
   "mimetype": "text/x-python",
   "name": "python",
   "nbconvert_exporter": "python",
   "pygments_lexer": "ipython3",
   "version": "3.12.3"
  }
 },
 "nbformat": 4,
 "nbformat_minor": 2
}
